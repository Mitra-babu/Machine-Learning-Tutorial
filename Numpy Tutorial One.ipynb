{
 "cells": [
  {
   "cell_type": "code",
   "execution_count": 2,
   "id": "solid-representation",
   "metadata": {},
   "outputs": [
    {
     "name": "stdout",
     "output_type": "stream",
     "text": [
      "Requirement already satisfied: numpy in /home/mitra/anaconda3/lib/python3.7/site-packages (1.19.2)\r\n"
     ]
    }
   ],
   "source": [
    "!pip3 install numpy"
   ]
  },
  {
   "cell_type": "code",
   "execution_count": 4,
   "id": "continental-geology",
   "metadata": {},
   "outputs": [],
   "source": [
    "import numpy as np"
   ]
  },
  {
   "cell_type": "code",
   "execution_count": 10,
   "id": "weighted-cameroon",
   "metadata": {},
   "outputs": [
    {
     "data": {
      "text/plain": [
       "[1, 2, 3, 4, 5]"
      ]
     },
     "execution_count": 10,
     "metadata": {},
     "output_type": "execute_result"
    }
   ],
   "source": [
    "my_lst=[1,2,3,4,5]\n",
    "my_lst"
   ]
  },
  {
   "cell_type": "code",
   "execution_count": 11,
   "id": "amber-source",
   "metadata": {},
   "outputs": [
    {
     "name": "stdout",
     "output_type": "stream",
     "text": [
      "[1 2 3 4 5]\n"
     ]
    }
   ],
   "source": [
    "arr=np.array(my_lst)\n",
    "print(arr)"
   ]
  },
  {
   "cell_type": "code",
   "execution_count": 13,
   "id": "moderate-seven",
   "metadata": {},
   "outputs": [
    {
     "data": {
      "text/plain": [
       "numpy.ndarray"
      ]
     },
     "execution_count": 13,
     "metadata": {},
     "output_type": "execute_result"
    }
   ],
   "source": [
    "type(arr)"
   ]
  },
  {
   "cell_type": "code",
   "execution_count": 15,
   "id": "polish-persian",
   "metadata": {},
   "outputs": [
    {
     "data": {
      "text/plain": [
       "(5,)"
      ]
     },
     "execution_count": 15,
     "metadata": {},
     "output_type": "execute_result"
    }
   ],
   "source": [
    "arr.shape"
   ]
  },
  {
   "cell_type": "markdown",
   "id": "single-composer",
   "metadata": {},
   "source": [
    "# converting one dimentional array to multi dimentional array"
   ]
  },
  {
   "cell_type": "code",
   "execution_count": 17,
   "id": "completed-demographic",
   "metadata": {},
   "outputs": [],
   "source": [
    "myarray1=[1,2,3,4,5]\n",
    "myarray2=[2,3,4,5,6]\n",
    "myarray3=[3,4,5,6,7]"
   ]
  },
  {
   "cell_type": "code",
   "execution_count": 20,
   "id": "voluntary-palmer",
   "metadata": {},
   "outputs": [
    {
     "data": {
      "text/plain": [
       "array([[1, 2, 3, 4, 5],\n",
       "       [2, 3, 4, 5, 6],\n",
       "       [3, 4, 5, 6, 7]])"
      ]
     },
     "execution_count": 20,
     "metadata": {},
     "output_type": "execute_result"
    }
   ],
   "source": [
    "arr=np.array([myarray1,myarray2,myarray3])\n",
    "arr"
   ]
  },
  {
   "cell_type": "code",
   "execution_count": 22,
   "id": "careful-reward",
   "metadata": {},
   "outputs": [
    {
     "data": {
      "text/plain": [
       "(3, 5)"
      ]
     },
     "execution_count": 22,
     "metadata": {},
     "output_type": "execute_result"
    }
   ],
   "source": [
    "arr.shape"
   ]
  },
  {
   "cell_type": "markdown",
   "id": "efficient-investor",
   "metadata": {},
   "source": [
    "Reshaping the array (number of elements from the current array to reshaping array must be equal)"
   ]
  },
  {
   "cell_type": "code",
   "execution_count": 24,
   "id": "institutional-budapest",
   "metadata": {},
   "outputs": [
    {
     "data": {
      "text/plain": [
       "array([[1, 2, 3],\n",
       "       [4, 5, 2],\n",
       "       [3, 4, 5],\n",
       "       [6, 3, 4],\n",
       "       [5, 6, 7]])"
      ]
     },
     "execution_count": 24,
     "metadata": {},
     "output_type": "execute_result"
    }
   ],
   "source": [
    "arr.reshape(5,3)"
   ]
  },
  {
   "cell_type": "code",
   "execution_count": 26,
   "id": "surprised-nickname",
   "metadata": {},
   "outputs": [
    {
     "data": {
      "text/plain": [
       "(3, 5)"
      ]
     },
     "execution_count": 26,
     "metadata": {},
     "output_type": "execute_result"
    }
   ],
   "source": [
    "arr.shape"
   ]
  },
  {
   "cell_type": "code",
   "execution_count": 27,
   "id": "skilled-running",
   "metadata": {},
   "outputs": [
    {
     "data": {
      "text/plain": [
       "array([[1, 2, 3, 4, 5, 2, 3, 4, 5, 6, 3, 4, 5, 6, 7]])"
      ]
     },
     "execution_count": 27,
     "metadata": {},
     "output_type": "execute_result"
    }
   ],
   "source": [
    "arr.reshape(1,15)"
   ]
  },
  {
   "cell_type": "markdown",
   "id": "abstract-country",
   "metadata": {},
   "source": [
    "The above array is 2 dimentional"
   ]
  },
  {
   "cell_type": "markdown",
   "id": "contained-slovakia",
   "metadata": {},
   "source": [
    "# Indexing"
   ]
  },
  {
   "cell_type": "code",
   "execution_count": 67,
   "id": "streaming-bride",
   "metadata": {},
   "outputs": [],
   "source": [
    "arr=np.array([1,2,3,4,5,6,7,8,9])"
   ]
  },
  {
   "cell_type": "code",
   "execution_count": 68,
   "id": "cardiac-passport",
   "metadata": {},
   "outputs": [
    {
     "data": {
      "text/plain": [
       "4"
      ]
     },
     "execution_count": 68,
     "metadata": {},
     "output_type": "execute_result"
    }
   ],
   "source": [
    "arr[3]"
   ]
  },
  {
   "cell_type": "code",
   "execution_count": 69,
   "id": "indonesian-procurement",
   "metadata": {},
   "outputs": [
    {
     "data": {
      "text/plain": [
       "array([  1,   2,   3, 100, 100, 100, 100, 100, 100])"
      ]
     },
     "execution_count": 69,
     "metadata": {},
     "output_type": "execute_result"
    }
   ],
   "source": [
    "arr[3:]=100\n",
    "arr"
   ]
  },
  {
   "cell_type": "code",
   "execution_count": 51,
   "id": "republican-faculty",
   "metadata": {},
   "outputs": [
    {
     "data": {
      "text/plain": [
       "array([[1, 2, 3],\n",
       "       [4, 5, 6],\n",
       "       [7, 8, 9]])"
      ]
     },
     "execution_count": 51,
     "metadata": {},
     "output_type": "execute_result"
    }
   ],
   "source": [
    "arr=arr.reshape(3,3)\n",
    "arr"
   ]
  },
  {
   "cell_type": "markdown",
   "id": "acute-karma",
   "metadata": {},
   "source": [
    "Selecting all rows and column's elements"
   ]
  },
  {
   "cell_type": "code",
   "execution_count": 52,
   "id": "bronze-queue",
   "metadata": {},
   "outputs": [
    {
     "data": {
      "text/plain": [
       "array([[1, 2, 3],\n",
       "       [4, 5, 6],\n",
       "       [7, 8, 9]])"
      ]
     },
     "execution_count": 52,
     "metadata": {},
     "output_type": "execute_result"
    }
   ],
   "source": [
    "arr[:,:]"
   ]
  },
  {
   "cell_type": "markdown",
   "id": "swedish-brother",
   "metadata": {},
   "source": [
    "Selecting first two rows"
   ]
  },
  {
   "cell_type": "code",
   "execution_count": 56,
   "id": "foreign-fitness",
   "metadata": {},
   "outputs": [
    {
     "data": {
      "text/plain": [
       "array([[1, 2, 3],\n",
       "       [4, 5, 6]])"
      ]
     },
     "execution_count": 56,
     "metadata": {},
     "output_type": "execute_result"
    }
   ],
   "source": [
    "arr[0:2,:]"
   ]
  },
  {
   "cell_type": "markdown",
   "id": "stainless-congress",
   "metadata": {},
   "source": [
    "selecting first two rows and two columns"
   ]
  },
  {
   "cell_type": "code",
   "execution_count": 58,
   "id": "guilty-intellectual",
   "metadata": {},
   "outputs": [
    {
     "data": {
      "text/plain": [
       "array([[1, 2],\n",
       "       [4, 5]])"
      ]
     },
     "execution_count": 58,
     "metadata": {},
     "output_type": "execute_result"
    }
   ],
   "source": [
    "arr[0:2,0:2]"
   ]
  },
  {
   "cell_type": "markdown",
   "id": "modified-retro",
   "metadata": {},
   "source": [
    "Selecting row two to three and column two to three"
   ]
  },
  {
   "cell_type": "code",
   "execution_count": 59,
   "id": "absent-rogers",
   "metadata": {},
   "outputs": [
    {
     "data": {
      "text/plain": [
       "array([[5, 6],\n",
       "       [8, 9]])"
      ]
     },
     "execution_count": 59,
     "metadata": {},
     "output_type": "execute_result"
    }
   ],
   "source": [
    "arr[1:,1:]"
   ]
  },
  {
   "cell_type": "markdown",
   "id": "previous-dimension",
   "metadata": {},
   "source": [
    "# Random Array generation"
   ]
  },
  {
   "cell_type": "code",
   "execution_count": 61,
   "id": "comprehensive-header",
   "metadata": {},
   "outputs": [
    {
     "data": {
      "text/plain": [
       "array([0, 1, 2, 3, 4, 5, 6, 7, 8, 9])"
      ]
     },
     "execution_count": 61,
     "metadata": {},
     "output_type": "execute_result"
    }
   ],
   "source": [
    "arr=np.arange(0,10)\n",
    "arr"
   ]
  },
  {
   "cell_type": "markdown",
   "id": "found-return",
   "metadata": {},
   "source": [
    "array generation with step"
   ]
  },
  {
   "cell_type": "code",
   "execution_count": 63,
   "id": "rough-display",
   "metadata": {},
   "outputs": [
    {
     "data": {
      "text/plain": [
       "array([0, 2, 4, 6, 8])"
      ]
     },
     "execution_count": 63,
     "metadata": {},
     "output_type": "execute_result"
    }
   ],
   "source": [
    "arr=np.arange(0,10,2)\n",
    "arr"
   ]
  },
  {
   "cell_type": "markdown",
   "id": "comparative-hello",
   "metadata": {},
   "source": [
    "generation of array from one range to another"
   ]
  },
  {
   "cell_type": "code",
   "execution_count": 70,
   "id": "chinese-section",
   "metadata": {},
   "outputs": [
    {
     "data": {
      "text/plain": [
       "array([ 1.        ,  1.18367347,  1.36734694,  1.55102041,  1.73469388,\n",
       "        1.91836735,  2.10204082,  2.28571429,  2.46938776,  2.65306122,\n",
       "        2.83673469,  3.02040816,  3.20408163,  3.3877551 ,  3.57142857,\n",
       "        3.75510204,  3.93877551,  4.12244898,  4.30612245,  4.48979592,\n",
       "        4.67346939,  4.85714286,  5.04081633,  5.2244898 ,  5.40816327,\n",
       "        5.59183673,  5.7755102 ,  5.95918367,  6.14285714,  6.32653061,\n",
       "        6.51020408,  6.69387755,  6.87755102,  7.06122449,  7.24489796,\n",
       "        7.42857143,  7.6122449 ,  7.79591837,  7.97959184,  8.16326531,\n",
       "        8.34693878,  8.53061224,  8.71428571,  8.89795918,  9.08163265,\n",
       "        9.26530612,  9.44897959,  9.63265306,  9.81632653, 10.        ])"
      ]
     },
     "execution_count": 70,
     "metadata": {},
     "output_type": "execute_result"
    }
   ],
   "source": [
    "arr=np.linspace(1,10,50)\n",
    "arr"
   ]
  },
  {
   "cell_type": "code",
   "execution_count": 72,
   "id": "systematic-contact",
   "metadata": {},
   "outputs": [],
   "source": [
    "arr1=arr"
   ]
  },
  {
   "cell_type": "code",
   "execution_count": 74,
   "id": "seven-project",
   "metadata": {},
   "outputs": [
    {
     "data": {
      "text/plain": [
       "array([  1.        ,   1.18367347,   1.36734694, 500.        ,\n",
       "       500.        , 500.        , 500.        , 500.        ,\n",
       "       500.        , 500.        , 500.        , 500.        ,\n",
       "       500.        , 500.        , 500.        , 500.        ,\n",
       "       500.        , 500.        , 500.        , 500.        ,\n",
       "       500.        , 500.        , 500.        , 500.        ,\n",
       "       500.        , 500.        , 500.        , 500.        ,\n",
       "       500.        , 500.        , 500.        , 500.        ,\n",
       "       500.        , 500.        , 500.        , 500.        ,\n",
       "       500.        , 500.        , 500.        , 500.        ,\n",
       "       500.        , 500.        , 500.        , 500.        ,\n",
       "       500.        , 500.        , 500.        , 500.        ,\n",
       "       500.        , 500.        ])"
      ]
     },
     "execution_count": 74,
     "metadata": {},
     "output_type": "execute_result"
    }
   ],
   "source": [
    "arr1[3:]=500\n",
    "arr1"
   ]
  },
  {
   "cell_type": "code",
   "execution_count": 76,
   "id": "broke-houston",
   "metadata": {},
   "outputs": [
    {
     "data": {
      "text/plain": [
       "array([  1.        ,   1.18367347,   1.36734694, 500.        ,\n",
       "       500.        , 500.        , 500.        , 500.        ,\n",
       "       500.        , 500.        , 500.        , 500.        ,\n",
       "       500.        , 500.        , 500.        , 500.        ,\n",
       "       500.        , 500.        , 500.        , 500.        ,\n",
       "       500.        , 500.        , 500.        , 500.        ,\n",
       "       500.        , 500.        , 500.        , 500.        ,\n",
       "       500.        , 500.        , 500.        , 500.        ,\n",
       "       500.        , 500.        , 500.        , 500.        ,\n",
       "       500.        , 500.        , 500.        , 500.        ,\n",
       "       500.        , 500.        , 500.        , 500.        ,\n",
       "       500.        , 500.        , 500.        , 500.        ,\n",
       "       500.        , 500.        ])"
      ]
     },
     "execution_count": 76,
     "metadata": {},
     "output_type": "execute_result"
    }
   ],
   "source": [
    "arr"
   ]
  },
  {
   "cell_type": "code",
   "execution_count": 80,
   "id": "offensive-general",
   "metadata": {},
   "outputs": [
    {
     "data": {
      "text/plain": [
       "array([ 1.        ,  1.18367347,  1.36734694,  1.55102041,  1.73469388,\n",
       "        1.91836735,  2.10204082,  2.28571429,  2.46938776,  2.65306122,\n",
       "        2.83673469,  3.02040816,  3.20408163,  3.3877551 ,  3.57142857,\n",
       "        3.75510204,  3.93877551,  4.12244898,  4.30612245,  4.48979592,\n",
       "        4.67346939,  4.85714286,  5.04081633,  5.2244898 ,  5.40816327,\n",
       "        5.59183673,  5.7755102 ,  5.95918367,  6.14285714,  6.32653061,\n",
       "        6.51020408,  6.69387755,  6.87755102,  7.06122449,  7.24489796,\n",
       "        7.42857143,  7.6122449 ,  7.79591837,  7.97959184,  8.16326531,\n",
       "        8.34693878,  8.53061224,  8.71428571,  8.89795918,  9.08163265,\n",
       "        9.26530612,  9.44897959,  9.63265306,  9.81632653, 10.        ])"
      ]
     },
     "execution_count": 80,
     "metadata": {},
     "output_type": "execute_result"
    }
   ],
   "source": [
    "arr=np.linspace(1,10,50)\n",
    "arr"
   ]
  },
  {
   "cell_type": "code",
   "execution_count": 81,
   "id": "technological-device",
   "metadata": {},
   "outputs": [
    {
     "data": {
      "text/plain": [
       "array([ True,  True,  True,  True,  True,  True, False, False, False,\n",
       "       False, False, False, False, False, False, False, False, False,\n",
       "       False, False, False, False, False, False, False, False, False,\n",
       "       False, False, False, False, False, False, False, False, False,\n",
       "       False, False, False, False, False, False, False, False, False,\n",
       "       False, False, False, False, False])"
      ]
     },
     "execution_count": 81,
     "metadata": {},
     "output_type": "execute_result"
    }
   ],
   "source": [
    "val=2\n",
    "arr<2"
   ]
  },
  {
   "cell_type": "code",
   "execution_count": 83,
   "id": "balanced-landscape",
   "metadata": {},
   "outputs": [
    {
     "data": {
      "text/plain": [
       "array([1.        , 1.18367347, 1.36734694, 1.55102041, 1.73469388,\n",
       "       1.91836735, 2.10204082, 2.28571429, 2.46938776, 2.65306122,\n",
       "       2.83673469, 3.02040816, 3.20408163, 3.3877551 , 3.57142857,\n",
       "       3.75510204, 3.93877551, 4.12244898, 4.30612245, 4.48979592,\n",
       "       4.67346939, 4.85714286])"
      ]
     },
     "execution_count": 83,
     "metadata": {},
     "output_type": "execute_result"
    }
   ],
   "source": [
    "arr[arr<5]"
   ]
  },
  {
   "cell_type": "code",
   "execution_count": 85,
   "id": "amino-argentina",
   "metadata": {},
   "outputs": [
    {
     "data": {
      "text/plain": [
       "array([[0, 1],\n",
       "       [2, 3],\n",
       "       [4, 5],\n",
       "       [6, 7],\n",
       "       [8, 9]])"
      ]
     },
     "execution_count": 85,
     "metadata": {},
     "output_type": "execute_result"
    }
   ],
   "source": [
    "np.arange(0,10).reshape(5,2)"
   ]
  },
  {
   "cell_type": "code",
   "execution_count": 90,
   "id": "experimental-hydrogen",
   "metadata": {},
   "outputs": [
    {
     "data": {
      "text/plain": [
       "array([[ 0,  2],\n",
       "       [ 4,  6],\n",
       "       [ 8, 10],\n",
       "       [12, 14],\n",
       "       [16, 18]])"
      ]
     },
     "execution_count": 90,
     "metadata": {},
     "output_type": "execute_result"
    }
   ],
   "source": [
    "np.arange(0,20,2).reshape(5,2)"
   ]
  },
  {
   "cell_type": "code",
   "execution_count": 92,
   "id": "sexual-sessions",
   "metadata": {},
   "outputs": [
    {
     "data": {
      "text/plain": [
       "array([[  0,   2],\n",
       "       [  8,  18],\n",
       "       [ 32,  50],\n",
       "       [ 72,  98],\n",
       "       [128, 162]])"
      ]
     },
     "execution_count": 92,
     "metadata": {},
     "output_type": "execute_result"
    }
   ],
   "source": [
    "a1=np.arange(0,10).reshape(5,2)\n",
    "a2=np.arange(0,20,2).reshape(5,2)\n",
    "a1*a2"
   ]
  },
  {
   "cell_type": "code",
   "execution_count": 94,
   "id": "communist-dividend",
   "metadata": {},
   "outputs": [
    {
     "data": {
      "text/plain": [
       "array([1., 1., 1., 1., 1., 1., 1., 1., 1., 1.])"
      ]
     },
     "execution_count": 94,
     "metadata": {},
     "output_type": "execute_result"
    }
   ],
   "source": [
    "np.ones(10)"
   ]
  },
  {
   "cell_type": "code",
   "execution_count": 96,
   "id": "corrected-transcription",
   "metadata": {},
   "outputs": [
    {
     "data": {
      "text/plain": [
       "array([[1., 1.],\n",
       "       [1., 1.],\n",
       "       [1., 1.],\n",
       "       [1., 1.],\n",
       "       [1., 1.]])"
      ]
     },
     "execution_count": 96,
     "metadata": {},
     "output_type": "execute_result"
    }
   ],
   "source": [
    "np.ones(10).reshape(5,2)"
   ]
  },
  {
   "cell_type": "code",
   "execution_count": 98,
   "id": "changed-thinking",
   "metadata": {},
   "outputs": [
    {
     "data": {
      "text/plain": [
       "array([[1., 1., 1., 1., 1.],\n",
       "       [1., 1., 1., 1., 1.]])"
      ]
     },
     "execution_count": 98,
     "metadata": {},
     "output_type": "execute_result"
    }
   ],
   "source": [
    "np.ones((2,5))"
   ]
  },
  {
   "cell_type": "markdown",
   "id": "nearby-commerce",
   "metadata": {},
   "source": [
    "by default is float data types"
   ]
  },
  {
   "cell_type": "code",
   "execution_count": 100,
   "id": "prescription-reviewer",
   "metadata": {},
   "outputs": [
    {
     "data": {
      "text/plain": [
       "array([[1, 1, 1, 1, 1],\n",
       "       [1, 1, 1, 1, 1]])"
      ]
     },
     "execution_count": 100,
     "metadata": {},
     "output_type": "execute_result"
    }
   ],
   "source": [
    "np.ones((2,5),int)"
   ]
  },
  {
   "cell_type": "markdown",
   "id": "bored-insulation",
   "metadata": {},
   "source": [
    "Random generation of array"
   ]
  },
  {
   "cell_type": "code",
   "execution_count": 109,
   "id": "apparent-savannah",
   "metadata": {},
   "outputs": [
    {
     "data": {
      "text/plain": [
       "array([0.84168841, 0.82584217, 0.63333531, 0.61028744, 0.83261495,\n",
       "       0.49011967, 0.14835253, 0.04154789, 0.74775758, 0.95372118])"
      ]
     },
     "execution_count": 109,
     "metadata": {},
     "output_type": "execute_result"
    }
   ],
   "source": [
    "arr=np.random.rand(10)\n",
    "arr"
   ]
  },
  {
   "cell_type": "code",
   "execution_count": 107,
   "id": "embedded-brook",
   "metadata": {},
   "outputs": [
    {
     "data": {
      "text/plain": [
       "array([[0.06062111, 0.40240339, 0.20448573, 0.04522725],\n",
       "       [0.49455595, 0.74762071, 0.75853959, 0.7440518 ],\n",
       "       [0.48363512, 0.10207896, 0.34931665, 0.63649523],\n",
       "       [0.6377925 , 0.04695355, 0.37831369, 0.75633539]])"
      ]
     },
     "execution_count": 107,
     "metadata": {},
     "output_type": "execute_result"
    }
   ],
   "source": [
    "arr=np.random.rand(4,4)\n",
    "arr"
   ]
  },
  {
   "cell_type": "code",
   "execution_count": 110,
   "id": "alike-selling",
   "metadata": {},
   "outputs": [
    {
     "data": {
      "text/plain": [
       "array([[ 7.26955506, 78.7603649 , 71.30423   , 71.27721271],\n",
       "       [31.72716953, 31.77689231, 78.01426   , 30.02538582],\n",
       "       [10.37201481, 36.93240415,  2.60306373, 83.89123281],\n",
       "       [85.00813306, 28.47916603,  8.68385385, 14.03238515]])"
      ]
     },
     "execution_count": 110,
     "metadata": {},
     "output_type": "execute_result"
    }
   ],
   "source": [
    "arr=np.random.rand(4,4)*100\n",
    "arr"
   ]
  },
  {
   "cell_type": "markdown",
   "id": "vocational-baptist",
   "metadata": {},
   "source": [
    "Selection random integer from one range to another with number of choices"
   ]
  },
  {
   "cell_type": "code",
   "execution_count": 115,
   "id": "integrated-italy",
   "metadata": {},
   "outputs": [
    {
     "data": {
      "text/plain": [
       "array([11, 58, 48, 82, 32, 54, 59, 49])"
      ]
     },
     "execution_count": 115,
     "metadata": {},
     "output_type": "execute_result"
    }
   ],
   "source": [
    "np.random.randint(0,100,8)"
   ]
  },
  {
   "cell_type": "code",
   "execution_count": 118,
   "id": "foster-presence",
   "metadata": {},
   "outputs": [
    {
     "data": {
      "text/plain": [
       "array([74, 55, 43, 69, 36, 96, 50, 12, 14, 44, 42, 11, 23,  8, 46,  0, 94,\n",
       "       97, 61, 82, 44, 97, 22, 22, 95])"
      ]
     },
     "execution_count": 118,
     "metadata": {},
     "output_type": "execute_result"
    }
   ],
   "source": [
    "np.random.randint(0,100,25)"
   ]
  }
 ],
 "metadata": {
  "kernelspec": {
   "display_name": "Python 3",
   "language": "python",
   "name": "python3"
  },
  "language_info": {
   "codemirror_mode": {
    "name": "ipython",
    "version": 3
   },
   "file_extension": ".py",
   "mimetype": "text/x-python",
   "name": "python",
   "nbconvert_exporter": "python",
   "pygments_lexer": "ipython3",
   "version": "3.7.9"
  }
 },
 "nbformat": 4,
 "nbformat_minor": 5
}
